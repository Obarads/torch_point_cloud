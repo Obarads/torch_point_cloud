{
 "cells": [
  {
   "cell_type": "markdown",
   "metadata": {},
   "source": [
    "# S3DIS examples\n",
    "- This code is examples of `torch_point_cloud.datasets.S3DIS.S3DIS`."
   ]
  },
  {
   "cell_type": "markdown",
   "metadata": {},
   "source": [
    "## install a package\n",
    "- [k3d](https://github.com/K3D-tools/K3D-jupyter): visualizer"
   ]
  },
  {
   "cell_type": "markdown",
   "metadata": {},
   "source": [
    "## import packages and define values\n",
    "- dataset_path: dataset path of [S3DIS](https://openaccess.thecvf.com/content_cvpr_2016/papers/Armeni_3D_Semantic_Parsing_CVPR_2016_paper.pdf)"
   ]
  },
  {
   "cell_type": "code",
   "execution_count": 1,
   "metadata": {},
   "outputs": [],
   "source": [
    "%reload_ext autoreload\n",
    "%autoreload 2\n",
    "\n",
    "import os, sys\n",
    "# BASE_DIR = os.path.dirname(os.path.abspath(__file__)) # for .py\n",
    "BASE_DIR = os.path.abspath('') # for .ipynb\n",
    "sys.path.append(os.path.abspath(os.path.join(BASE_DIR, \"../../\"))) # for torch_point_cloud package path\n",
    "\n",
    "from torch_point_cloud.datasets.S3DIS import S3DIS\n",
    "from torch_point_cloud.datasets.S3DIS.utils.indoor3d_util import room2blocks_wrapper_normalized\n",
    "from torch_point_cloud.utils.setting import make_folders\n",
    "from torch_point_cloud.utils2.io.ply import label_to_color\n",
    "import k3d\n",
    "import numpy as np\n"
   ]
  },
  {
   "cell_type": "markdown",
   "metadata": {},
   "source": [
    "## preprocess S3DIS dataset\n",
    "- In order to use the dataset, you need to preprocess data of `Stanford3dDataset_v1.2_Aligned_Version`.\n",
    "- This preprocessing is the same method that [WXinlong/ASIS](https://github.com/WXinlong/ASIS) utilizes.\n",
    "- I call preprocessed datasets S3DIS scene and block dataset. \n",
    "- The difference between these preprocessed datasets is below.\n",
    "    - S3DIS scene dataset : Dataset including coords, colors, semantic and instance label in scene (e.g. room).\n",
    "    - S3DIS block dataset : Dataset including divided data (block) for the input of deep learning model (ASIS, JSNet ... etc.)."
   ]
  },
  {
   "cell_type": "code",
   "execution_count": 2,
   "metadata": {},
   "outputs": [],
   "source": [
    "# define dataset path\n",
    "dataset_path = \"/mnt/databox/datasets/S3DIS/Stanford3dDataset_v1.2_Aligned_Version/\" # S3DIS path\n",
    "output_path = \"data/\" # output (preprocessed dataset) path\n",
    "\n",
    "# scene dataset path\n",
    "scene_output_path = os.path.join(output_path, \"scenes\")\n",
    "\n",
    "# block dataset path\n",
    "block_output_path = os.path.join(output_path, \"blocks\")"
   ]
  },
  {
   "cell_type": "code",
   "execution_count": null,
   "metadata": {},
   "outputs": [],
   "source": [
    "# create S3DIS scene dataset\n",
    "# make a dir.\n",
    "make_folders(scene_output_path)\n",
    "# create a scene dataset\n",
    "Preprocessing.create_scene_dataset(dataset_path, scene_output_path)\n",
    "print(\"Finish creating S3DIS scene dataset.\")"
   ]
  },
  {
   "cell_type": "code",
   "execution_count": 21,
   "metadata": {},
   "outputs": [
    {
     "ename": "NameError",
     "evalue": "name 'make_folders' is not defined",
     "output_type": "error",
     "traceback": [
      "\u001b[0;31m---------------------------------------------------------------------------\u001b[0m",
      "\u001b[0;31mNameError\u001b[0m                                 Traceback (most recent call last)",
      "\u001b[0;32m<ipython-input-21-025138100b36>\u001b[0m in \u001b[0;36m<module>\u001b[0;34m\u001b[0m\n\u001b[1;32m      6\u001b[0m \u001b[0mstride\u001b[0m \u001b[0;34m=\u001b[0m \u001b[0;36m0.5\u001b[0m\u001b[0;34m\u001b[0m\u001b[0;34m\u001b[0m\u001b[0m\n\u001b[1;32m      7\u001b[0m \u001b[0;31m# make a dir.\u001b[0m\u001b[0;34m\u001b[0m\u001b[0;34m\u001b[0m\u001b[0;34m\u001b[0m\u001b[0m\n\u001b[0;32m----> 8\u001b[0;31m \u001b[0mmake_folders\u001b[0m\u001b[0;34m(\u001b[0m\u001b[0mblock_output_path\u001b[0m\u001b[0;34m)\u001b[0m\u001b[0;34m\u001b[0m\u001b[0;34m\u001b[0m\u001b[0m\n\u001b[0m\u001b[1;32m      9\u001b[0m Preprocessing.create_block_dataset(scene_output_path, block_output_path, \n\u001b[1;32m     10\u001b[0m                                    num_points, block_size, stride)\n",
      "\u001b[0;31mNameError\u001b[0m: name 'make_folders' is not defined"
     ]
    }
   ],
   "source": [
    "# S3DIS block dataset\n",
    "# define paths and params\n",
    "num_points = 4096\n",
    "block_size = 1.0\n",
    "stride = 0.5\n",
    "# make a dir.\n",
    "make_folders(block_output_path)\n",
    "# create a block dataset\n",
    "Preprocessing.create_block_dataset(scene_output_path, block_output_path, \n",
    "                                   num_points, block_size, stride)\n",
    "print(\"Finish creating S3DIS block dataset.\")"
   ]
  },
  {
   "cell_type": "markdown",
   "metadata": {},
   "source": [
    "## use S3DIS block dataset\n",
    "- `dataset_path` is path of S3DIS dataset dir created by `torch_point_cloud.datasets.S3DIS.S3DIS.Preprocessing.create_block_dataset`."
   ]
  },
  {
   "cell_type": "code",
   "execution_count": 3,
   "metadata": {},
   "outputs": [
    {
     "name": "stdout",
     "output_type": "stream",
     "text": [
      "point cloud shape: (4096, 9)\n",
      "semantic label shape: (4096,)\n",
      "instance label shape: (4096,)\n",
      "scene data path and block index: ['/mnt/databox/datasets/S3DIS/ASIS/S3DIS/4096/blocks/Area_1_WC_1.h5', 0]\n"
     ]
    },
    {
     "name": "stderr",
     "output_type": "stream",
     "text": [
      "/home/coder/anaconda3/envs/py37/lib/python3.7/site-packages/traittypes/traittypes.py:101: UserWarning: Given trait value dtype \"float32\" does not match required type \"uint32\". A coerced copy has been created.\n",
      "  np.dtype(self.dtype).name))\n"
     ]
    },
    {
     "data": {
      "application/vnd.jupyter.widget-view+json": {
       "model_id": "4f09d8eae6284ebd8d32de988fa359d9",
       "version_major": 2,
       "version_minor": 0
      },
      "text/plain": [
       "Output()"
      ]
     },
     "metadata": {},
     "output_type": "display_data"
    }
   ],
   "source": [
    "train_dataset = S3DIS.S3DISBlockDataset(\n",
    "    dataset_path=\"/mnt/databox/datasets/S3DIS/ASIS/S3DIS/4096/blocks/\",\n",
    "    num_points=4096,\n",
    "    split=\"train\",\n",
    "    test_area=5\n",
    ")\n",
    "\n",
    "# get block data\n",
    "point_cloud, sem_labels, ins_labels, datainfo = train_dataset[0]\n",
    "\n",
    "print(\"point cloud shape:\", point_cloud.shape)\n",
    "print(\"semantic label shape:\", sem_labels.shape)\n",
    "print(\"instance label shape:\", ins_labels.shape)\n",
    "print(\"scene data path and block index:\", datainfo)\n",
    "\n",
    "# get coords\n",
    "coords = point_cloud[:, 0:3]\n",
    "# get color codes\n",
    "colors = point_cloud[:, 3:6] * 255\n",
    "colors = colors.astype(np.int32)\n",
    "colors = colors[:, 0]*256*256 + colors[:,1]*256 + colors[:,2] # to color code\n",
    "\n",
    "# visualize point cloud\n",
    "plot = k3d.plot()\n",
    "points = k3d.points(coords, colors.astype(np.float32), point_size=0.02, shader='flat')\n",
    "plot += points\n",
    "plot.display()\n"
   ]
  },
  {
   "cell_type": "markdown",
   "metadata": {},
   "source": [
    "## define S3DIS scene dataset\n",
    "- `dataset_path` is a path of S3DIS dataset dir created by `torch_point_cloud.datasets.S3DIS.S3DIS.Preprocessing.create_scene_dataset`."
   ]
  },
  {
   "cell_type": "code",
   "execution_count": 9,
   "metadata": {},
   "outputs": [
    {
     "name": "stdout",
     "output_type": "stream",
     "text": [
      "point cloud shape: (1535040, 6)\n",
      "semantic label shape: (1535040,)\n",
      "instance label shape: (1535040,)\n",
      "scene data path: /mnt/databox/datasets/S3DIS/ASIS/S3DIS/4096/scenes/Area_1_conferenceRoom_2.npy\n"
     ]
    },
    {
     "data": {
      "application/vnd.jupyter.widget-view+json": {
       "model_id": "d52f880661864964a7eea3d70467d260",
       "version_major": 2,
       "version_minor": 0
      },
      "text/plain": [
       "Output()"
      ]
     },
     "metadata": {},
     "output_type": "display_data"
    }
   ],
   "source": [
    "train_dataset = S3DIS.S3DISSceneDataset(\n",
    "    dataset_path=\"/mnt/databox/datasets/S3DIS/ASIS/S3DIS/4096/scenes/\",\n",
    "    split=\"train\",\n",
    "    test_area=5\n",
    ")\n",
    "\n",
    "# get block data\n",
    "point_cloud, sem_labels, ins_labels, scene_path = train_dataset[2]\n",
    "\n",
    "print(\"point cloud shape:\", point_cloud.shape)\n",
    "print(\"semantic label shape:\", sem_labels.shape)\n",
    "print(\"instance label shape:\", ins_labels.shape)\n",
    "print(\"scene data path:\", scene_path)\n",
    "\n",
    "# get coords\n",
    "coords = point_cloud[:, 0:3]\n",
    "# get color codes\n",
    "colors = point_cloud[:, 3:6]\n",
    "colors = colors.astype(np.int32)\n",
    "colors = colors[:, 0]*256*256 + colors[:,1]*256 + colors[:,2] # to color code\n",
    "\n",
    "# visualize point cloud\n",
    "plot = k3d.plot()\n",
    "points = k3d.points(coords, colors.astype(np.float32), point_size=0.02, shader='flat')\n",
    "plot += points\n",
    "plot.display()\n"
   ]
  },
  {
   "cell_type": "code",
   "execution_count": 5,
   "metadata": {},
   "outputs": [
    {
     "name": "stdout",
     "output_type": "stream",
     "text": [
      "point cloud shape: (132, 4096, 9)\n",
      "semantic label shape: (132, 4096)\n",
      "instance label shape: (132, 4096)\n"
     ]
    },
    {
     "data": {
      "application/vnd.jupyter.widget-view+json": {
       "model_id": "5571303b4b954cd789ea515e28b31f49",
       "version_major": 2,
       "version_minor": 0
      },
      "text/plain": [
       "Output()"
      ]
     },
     "metadata": {},
     "output_type": "display_data"
    }
   ],
   "source": [
    "# get block point clouds from scene data\n",
    "num_points = 4096\n",
    "block_size = 1.0\n",
    "stride = 0.5\n",
    "point_clouds, sem_labels, ins_labels = room2blocks_wrapper_normalized(scene_path, num_points, block_size=block_size, stride=stride, random_sample=False, sample_num=None)\n",
    "\n",
    "print(\"point cloud shape:\", point_clouds.shape)\n",
    "print(\"semantic label shape:\", sem_labels.shape)\n",
    "print(\"instance label shape:\", ins_labels.shape)\n",
    "\n",
    "# get a block point cloud\n",
    "point_cloud = point_clouds[0]\n",
    "# get coords\n",
    "coords = point_cloud[:, 0:3]\n",
    "# get color codes\n",
    "colors = point_cloud[:, 3:6] * 255\n",
    "colors = colors.astype(np.int32)\n",
    "colors = colors[:, 0]*256*256 + colors[:,1]*256 + colors[:,2] # to color code\n",
    "\n",
    "# visualize point cloud\n",
    "plot = k3d.plot()\n",
    "points = k3d.points(coords, colors.astype(np.float32), point_size=0.02, shader='flat')\n",
    "plot += points\n",
    "plot.display()\n",
    "\n"
   ]
  },
  {
   "cell_type": "markdown",
   "metadata": {},
   "source": [
    "## assign labels to the point cloud"
   ]
  },
  {
   "cell_type": "code",
   "execution_count": 10,
   "metadata": {},
   "outputs": [
    {
     "data": {
      "application/vnd.jupyter.widget-view+json": {
       "model_id": "c1d677e52521425798891580ab111222",
       "version_major": 2,
       "version_minor": 0
      },
      "text/plain": [
       "Output()"
      ]
     },
     "metadata": {},
     "output_type": "display_data"
    }
   ],
   "source": [
    "train_dataset = S3DIS.S3DISSceneDataset(\n",
    "    dataset_path=\"/mnt/databox/datasets/S3DIS/ASIS/S3DIS/4096/scenes/\",\n",
    "    split=\"train\",\n",
    "    test_area=5\n",
    ")\n",
    "\n",
    "# get block data\n",
    "point_cloud, sem_labels, ins_labels, scene_path = train_dataset[2]\n",
    "\n",
    "# get coords\n",
    "coords = point_cloud[:, 0:3]\n",
    "# create label colors\n",
    "colors = label_to_color(ins_labels.astype(np.int32))\n",
    "# colors = point_cloud[:, 3:6]\n",
    "colors = colors.astype(np.int32)\n",
    "colors = colors[:, 0]*256*256 + colors[:,1]*256 + colors[:,2] # to color code\n",
    "\n",
    "# visualize point cloud\n",
    "plot = k3d.plot()\n",
    "points = k3d.points(coords, colors.astype(np.float32), point_size=0.02, shader='flat')\n",
    "plot += points\n",
    "plot.display()\n"
   ]
  },
  {
   "cell_type": "code",
   "execution_count": null,
   "metadata": {},
   "outputs": [],
   "source": []
  }
 ],
 "metadata": {
  "kernelspec": {
   "display_name": "Python 3",
   "language": "python",
   "name": "python3"
  },
  "language_info": {
   "codemirror_mode": {
    "name": "ipython",
    "version": 3
   },
   "file_extension": ".py",
   "mimetype": "text/x-python",
   "name": "python",
   "nbconvert_exporter": "python",
   "pygments_lexer": "ipython3",
   "version": "3.7.9"
  }
 },
 "nbformat": 4,
 "nbformat_minor": 4
}
