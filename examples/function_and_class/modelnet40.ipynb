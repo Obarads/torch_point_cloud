{
 "cells": [
  {
   "cell_type": "code",
   "execution_count": 1,
   "metadata": {},
   "outputs": [],
   "source": [
    "import torch\n",
    "import numpy as np\n",
    "import k3d\n",
    "\n",
    "from libs import tpcpath\n",
    "from torchpcp.utils import pytorch_tools\n",
    "pytorch_tools.set_seed(0)\n",
    "device = pytorch_tools.select_device(\"cuda\")\n"
   ]
  },
  {
   "cell_type": "code",
   "execution_count": 2,
   "metadata": {},
   "outputs": [],
   "source": [
    "def visualize_pc(pc, colors=None):\n",
    "    if colors is None:\n",
    "        colors = np.full(len(pc), 0x000000, dtype=np.float64) # white: 0xFFFFFF\n",
    "    plot = k3d.plot()\n",
    "    points = k3d.points(pc, colors.astype(np.float32), point_size=0.04, shader='flat')\n",
    "    plot += points\n",
    "    plot.display()\n"
   ]
  },
  {
   "cell_type": "code",
   "execution_count": 3,
   "metadata": {},
   "outputs": [],
   "source": [
    "from torchpcp.datasets.PointNet2.ModelNet import ModelNet40"
   ]
  },
  {
   "cell_type": "code",
   "execution_count": 4,
   "metadata": {},
   "outputs": [
    {
     "name": "stderr",
     "output_type": "stream",
     "text": [
      "fl: 100%|██████████| 9843/9843 [09:38<00:00, 17.01it/s]\n",
      "fl: 100%|██████████| 2468/2468 [02:24<00:00, 17.11it/s]\n"
     ]
    }
   ],
   "source": [
    "path = \"/mnt/databox/datasets/ModelNet/modelnet40_normal_resampled\"\n",
    "datasets = ModelNet40(path)"
   ]
  },
  {
   "cell_type": "code",
   "execution_count": 12,
   "metadata": {},
   "outputs": [],
   "source": [
    "import h5py\n",
    "# from tqdm import tqdm\n",
    "\n",
    "def create_modelnet_dataset(file_name, dataset):\n",
    "    with h5py.File(file_name, \"w\") as f:\n",
    "        point_clouds = []\n",
    "        labels = []\n",
    "        for i in range(len(dataset)):\n",
    "            points, label = dataset[i]\n",
    "            point_clouds.append(points)\n",
    "            labels.append(label)\n",
    "\n",
    "        f.create_dataset(\"point_clouds\", data=point_clouds, compression='gzip', compression_opts=1, dtype=\"float32\")\n",
    "        f.create_dataset(\"labels\", data=labels, compression='gzip', compression_opts=1, dtype=\"uint8\")\n",
    "\n",
    "create_modelnet_dataset(\"train_modelnet40.h5\", datasets[\"train\"])\n",
    "create_modelnet_dataset(\"test_modelnet40.h5\", datasets[\"test\"])\n"
   ]
  },
  {
   "cell_type": "code",
   "execution_count": 17,
   "metadata": {},
   "outputs": [],
   "source": [
    "from torch.utils.data import Dataset\n",
    "import os\n",
    "\n",
    "class MyModelNet40Dataset(Dataset):\n",
    "    def __init__(self, root, split):\n",
    "        self.root = root\n",
    "        if split == \"train\":\n",
    "            path = os.path.join(self.root, \"train_modelnet40.h5\")\n",
    "        elif split == \"test\":\n",
    "            path = os.path.join(self.root, \"test_modelnet40.h5\")\n",
    "        else:\n",
    "            raise NotImplementedError()\n",
    "            \n",
    "        with h5py.File(path, \"r\") as f:\n",
    "            self.point_clouds = f['point_clouds'][:]\n",
    "            self.labels = f['labels'][:]\n",
    "    \n",
    "    def __len__(self):\n",
    "        return len(self.labels)\n",
    "    \n",
    "    def __getitem__(self, idx):\n",
    "        point_cloud = self.point_clouds[idx]\n",
    "        label = self.labels[idx]\n",
    "        return point_cloud, label\n",
    "\n",
    "my_dataset = MyModelNet40Dataset(\"./\", \"train\")\n",
    "points, label = my_dataset[0]\n",
    "    "
   ]
  },
  {
   "cell_type": "code",
   "execution_count": null,
   "metadata": {},
   "outputs": [],
   "source": [
    "points, label = datasets[\"train\"][0]"
   ]
  },
  {
   "cell_type": "code",
   "execution_count": 18,
   "metadata": {},
   "outputs": [
    {
     "name": "stderr",
     "output_type": "stream",
     "text": [
      "/home/coder/anaconda3/envs/py37/lib/python3.7/site-packages/traittypes/traittypes.py:101: UserWarning: Given trait value dtype \"float32\" does not match required type \"uint32\". A coerced copy has been created.\n",
      "  np.dtype(self.dtype).name))\n"
     ]
    },
    {
     "data": {
      "application/vnd.jupyter.widget-view+json": {
       "model_id": "7185df815f57428b8ba277005869c50f",
       "version_major": 2,
       "version_minor": 0
      },
      "text/plain": [
       "Output()"
      ]
     },
     "metadata": {},
     "output_type": "display_data"
    }
   ],
   "source": [
    "visualize_pc(points[:, :3])"
   ]
  },
  {
   "cell_type": "code",
   "execution_count": null,
   "metadata": {},
   "outputs": [],
   "source": [
    "visualize_pc(points[:, 3:6])"
   ]
  },
  {
   "cell_type": "code",
   "execution_count": null,
   "metadata": {},
   "outputs": [],
   "source": []
  },
  {
   "cell_type": "code",
   "execution_count": null,
   "metadata": {},
   "outputs": [],
   "source": []
  }
 ],
 "metadata": {
  "kernelspec": {
   "display_name": "Python 3",
   "language": "python",
   "name": "python3"
  },
  "language_info": {
   "codemirror_mode": {
    "name": "ipython",
    "version": 3
   },
   "file_extension": ".py",
   "mimetype": "text/x-python",
   "name": "python",
   "nbconvert_exporter": "python",
   "pygments_lexer": "ipython3",
   "version": "3.7.6"
  }
 },
 "nbformat": 4,
 "nbformat_minor": 4
}
