{
 "cells": [
  {
   "cell_type": "markdown",
   "metadata": {},
   "source": [
    "# converter examples\n",
    "- This code is examples of `torch_point_cloud/utils/converter.py`."
   ]
  },
  {
   "cell_type": "markdown",
   "metadata": {},
   "source": [
    "## import packages and define values\n"
   ]
  },
  {
   "cell_type": "code",
   "execution_count": 6,
   "metadata": {},
   "outputs": [],
   "source": [
    "import os\n",
    "import numpy as np\n",
    "\n",
    "BASE_DIR = os.path.abspath('') # for .ipynb\n",
    "sys.path.append(os.path.abspath(os.path.join(BASE_DIR, \"../../\"))) # for torch_point_cloud package path\n",
    "\n",
    "from torch_point_cloud.utils2.converter import sparseLabel_to_denseLabel, sparseLabel_to_denseLabelConverter, batch_sparseLabel_to_denseLabel\n"
   ]
  },
  {
   "cell_type": "markdown",
   "metadata": {},
   "source": [
    "## sparseLabel_to_denseLabel and batch_sparseLabel_to_denseLabel examples"
   ]
  },
  {
   "cell_type": "code",
   "execution_count": 22,
   "metadata": {},
   "outputs": [
    {
     "data": {
      "text/plain": [
       "[0, 2, 0, 1]"
      ]
     },
     "execution_count": 22,
     "metadata": {},
     "output_type": "execute_result"
    }
   ],
   "source": [
    "label = np.array(\n",
    "    [0,3,0,2]\n",
    ")\n",
    "# sparseLabel_to_denseLabelConverter(label)\n",
    "sparseLabel_to_denseLabel(label)"
   ]
  },
  {
   "cell_type": "code",
   "execution_count": 23,
   "metadata": {},
   "outputs": [
    {
     "data": {
      "text/plain": [
       "array([[0, 2, 0, 1],\n",
       "       [0, 3, 2, 1]])"
      ]
     },
     "execution_count": 23,
     "metadata": {},
     "output_type": "execute_result"
    }
   ],
   "source": [
    "batch_labels = np.array([\n",
    "    [0,3,0,2],\n",
    "    [1,11,9,3]\n",
    "])\n",
    "\n",
    "batch_sparseLabel_to_denseLabel(batch_labels)"
   ]
  },
  {
   "cell_type": "code",
   "execution_count": null,
   "metadata": {},
   "outputs": [],
   "source": []
  }
 ],
 "metadata": {
  "kernelspec": {
   "display_name": "Python 3",
   "language": "python",
   "name": "python3"
  },
  "language_info": {
   "codemirror_mode": {
    "name": "ipython",
    "version": 3
   },
   "file_extension": ".py",
   "mimetype": "text/x-python",
   "name": "python",
   "nbconvert_exporter": "python",
   "pygments_lexer": "ipython3",
   "version": "3.7.9"
  }
 },
 "nbformat": 4,
 "nbformat_minor": 4
}
