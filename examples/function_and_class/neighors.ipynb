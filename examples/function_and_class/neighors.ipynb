{
 "cells": [
  {
   "cell_type": "code",
   "execution_count": 1,
   "metadata": {},
   "outputs": [],
   "source": [
    "%load_ext autoreload\n",
    "%autoreload 2"
   ]
  },
  {
   "cell_type": "code",
   "execution_count": 2,
   "metadata": {},
   "outputs": [],
   "source": [
    "import torch\n",
    "import numpy as np\n",
    "import k3d\n",
    "\n",
    "from libs import tpcpath\n",
    "from torch_point_cloud.utils import pytorch_tools\n",
    "pytorch_tools.set_seed(0)\n",
    "device = pytorch_tools.select_device(\"cuda\")\n"
   ]
  },
  {
   "cell_type": "code",
   "execution_count": 3,
   "metadata": {},
   "outputs": [],
   "source": [
    "def visualize_pc(pc, colors=None):\n",
    "    if colors is None:\n",
    "        colors = np.full(len(pc), 0x000000, dtype=np.float64) # white: 0xFFFFFF\n",
    "    plot = k3d.plot()\n",
    "    points = k3d.points(pc, colors.astype(np.float32), point_size=0.04, shader='flat')\n",
    "    plot += points\n",
    "    plot.display()\n"
   ]
  },
  {
   "cell_type": "markdown",
   "metadata": {},
   "source": [
    "## get point cloud dataset"
   ]
  },
  {
   "cell_type": "code",
   "execution_count": 4,
   "metadata": {},
   "outputs": [],
   "source": [
    "from libs.dataset import SimpleObjectDataset"
   ]
  },
  {
   "cell_type": "code",
   "execution_count": 5,
   "metadata": {},
   "outputs": [
    {
     "name": "stderr",
     "output_type": "stream",
     "text": [
      "/home/coder/anaconda3/envs/py37/lib/python3.7/site-packages/traittypes/traittypes.py:101: UserWarning: Given trait value dtype \"float32\" does not match required type \"uint32\". A coerced copy has been created.\n",
      "  np.dtype(self.dtype).name))\n"
     ]
    },
    {
     "data": {
      "application/vnd.jupyter.widget-view+json": {
       "model_id": "16cd5a78f7ee4ed98523ce29d550cb4f",
       "version_major": 2,
       "version_minor": 0
      },
      "text/plain": [
       "Output()"
      ]
     },
     "metadata": {},
     "output_type": "display_data"
    }
   ],
   "source": [
    "dataset = SimpleObjectDataset()\n",
    "pc, label = dataset[0]\n",
    "visualize_pc(pc)\n"
   ]
  },
  {
   "cell_type": "markdown",
   "metadata": {},
   "source": [
    "## get FPS points"
   ]
  },
  {
   "cell_type": "code",
   "execution_count": 6,
   "metadata": {},
   "outputs": [
    {
     "name": "stdout",
     "output_type": "stream",
     "text": [
      "The autoreload extension is already loaded. To reload it, use:\n",
      "  %reload_ext autoreload\n"
     ]
    }
   ],
   "source": [
    "%load_ext autoreload\n",
    "%autoreload 1\n",
    "%reload_ext autoreload\n",
    "\n",
    "from torch_point_cloud.modules.functional import furthest_point_sample, index2points"
   ]
  },
  {
   "cell_type": "code",
   "execution_count": 7,
   "metadata": {},
   "outputs": [
    {
     "name": "stderr",
     "output_type": "stream",
     "text": [
      "/home/coder/anaconda3/envs/py37/lib/python3.7/site-packages/traittypes/traittypes.py:101: UserWarning: Given trait value dtype \"float32\" does not match required type \"uint32\". A coerced copy has been created.\n",
      "  np.dtype(self.dtype).name))\n"
     ]
    },
    {
     "data": {
      "application/vnd.jupyter.widget-view+json": {
       "model_id": "953564ebd5ea4e2a9a25eb5de873916b",
       "version_major": 2,
       "version_minor": 0
      },
      "text/plain": [
       "Output()"
      ]
     },
     "metadata": {},
     "output_type": "display_data"
    }
   ],
   "source": [
    "t_pc = torch.tensor([pc])\n",
    "t_pc = t_pc.to(device)\n",
    "t_pc = t_pc.transpose(1,2)\n",
    "center_t_idxs = furthest_point_sample(t_pc, 512)\n",
    "center_t_pc = index2points(t_pc, center_t_idxs)\n",
    "center_pc = pytorch_tools.t2n(center_t_pc.transpose(1,2)[0])\n",
    "visualize_pc(center_pc)\n"
   ]
  },
  {
   "cell_type": "markdown",
   "metadata": {},
   "source": [
    "## get KNN points"
   ]
  },
  {
   "cell_type": "code",
   "execution_count": 8,
   "metadata": {},
   "outputs": [],
   "source": [
    "from torch_point_cloud.modules.functional import k_nearest_neighbors as knn"
   ]
  },
  {
   "cell_type": "code",
   "execution_count": 9,
   "metadata": {},
   "outputs": [
    {
     "name": "stdout",
     "output_type": "stream",
     "text": [
      "knn_idxs.shape: torch.Size([1, 512, 5])\n"
     ]
    }
   ],
   "source": [
    "knn_idxs, knn_dists = knn(t_pc, center_t_pc, 5)\n",
    "print(\"knn_idxs.shape:\", knn_idxs.shape)"
   ]
  },
  {
   "cell_type": "markdown",
   "metadata": {},
   "source": [
    "## compare C++ with python implementation."
   ]
  },
  {
   "cell_type": "code",
   "execution_count": 10,
   "metadata": {},
   "outputs": [],
   "source": [
    "from torch_point_cloud.modules.functional import py_k_nearest_neighbors\n",
    "from torch_point_cloud.utils.monitor import timecheck"
   ]
  },
  {
   "cell_type": "code",
   "execution_count": 11,
   "metadata": {},
   "outputs": [
    {
     "name": "stdout",
     "output_type": "stream",
     "text": [
      "c++ impl. shape: torch.Size([1, 512, 3])\n",
      "c++ impl. time: 0.0004522800445556640625s\n"
     ]
    }
   ],
   "source": [
    "t = timecheck()\n",
    "knn_idxs, knn_dists = knn(t_pc, center_t_pc, 3)\n",
    "print(\"c++ impl. shape:\", knn_idxs.shape)\n",
    "t = timecheck(t, \"c++ impl. time\")"
   ]
  },
  {
   "cell_type": "code",
   "execution_count": 12,
   "metadata": {},
   "outputs": [
    {
     "name": "stdout",
     "output_type": "stream",
     "text": [
      "python impl. shape: torch.Size([1, 512, 3])\n",
      "python impl. time: 0.0013401508331298828125s\n",
      "False\n"
     ]
    }
   ],
   "source": [
    "t = timecheck()\n",
    "knn_idxs_py, knn_dists_py = py_k_nearest_neighbors(center_t_pc, t_pc, 3, True)\n",
    "print(\"python impl. shape:\", knn_idxs_py.shape)\n",
    "t = timecheck(t, \"python impl. time\")\n",
    "print(False in (knn_idxs == knn_idxs_py))"
   ]
  },
  {
   "cell_type": "markdown",
   "metadata": {},
   "source": [
    "## compare other implementation."
   ]
  },
  {
   "cell_type": "code",
   "execution_count": 1,
   "metadata": {},
   "outputs": [
    {
     "ename": "ImportError",
     "evalue": "libc10.so: cannot open shared object file: No such file or directory",
     "output_type": "error",
     "traceback": [
      "\u001b[0;31m---------------------------------------------------------------------------\u001b[0m",
      "\u001b[0;31mImportError\u001b[0m                               Traceback (most recent call last)",
      "\u001b[0;32m<ipython-input-1-cd35fc99715e>\u001b[0m in \u001b[0;36m<module>\u001b[0;34m\u001b[0m\n\u001b[1;32m      1\u001b[0m \u001b[0;31m# PointRCNN impl. from https://github.com/sshaoshuai/PointRCNN\u001b[0m\u001b[0;34m\u001b[0m\u001b[0;34m\u001b[0m\u001b[0;34m\u001b[0m\u001b[0m\n\u001b[0;32m----> 2\u001b[0;31m \u001b[0;32mimport\u001b[0m \u001b[0mpointnet2_cuda\u001b[0m \u001b[0;32mas\u001b[0m \u001b[0mpointnet2\u001b[0m\u001b[0;34m\u001b[0m\u001b[0;34m\u001b[0m\u001b[0m\n\u001b[0m\u001b[1;32m      3\u001b[0m \u001b[0;32mfrom\u001b[0m \u001b[0mtyping\u001b[0m \u001b[0;32mimport\u001b[0m \u001b[0mTuple\u001b[0m\u001b[0;34m\u001b[0m\u001b[0;34m\u001b[0m\u001b[0m\n\u001b[1;32m      4\u001b[0m \u001b[0;32mclass\u001b[0m \u001b[0mThreeNN\u001b[0m\u001b[0;34m(\u001b[0m\u001b[0mtorch\u001b[0m\u001b[0;34m.\u001b[0m\u001b[0mautograd\u001b[0m\u001b[0;34m.\u001b[0m\u001b[0mFunction\u001b[0m\u001b[0;34m)\u001b[0m\u001b[0;34m:\u001b[0m\u001b[0;34m\u001b[0m\u001b[0;34m\u001b[0m\u001b[0m\n\u001b[1;32m      5\u001b[0m \u001b[0;34m\u001b[0m\u001b[0m\n",
      "\u001b[0;31mImportError\u001b[0m: libc10.so: cannot open shared object file: No such file or directory"
     ]
    }
   ],
   "source": [
    "# PointRCNN impl. from https://github.com/sshaoshuai/PointRCNN\n",
    "import pointnet2_cuda as pointnet2\n",
    "from typing import Tuple\n",
    "class ThreeNN(torch.autograd.Function):\n",
    "\n",
    "    @staticmethod\n",
    "    def forward(ctx, unknown: torch.Tensor, known: torch.Tensor) -> Tuple[torch.Tensor, torch.Tensor]:\n",
    "        \"\"\"\n",
    "        Find the three nearest neighbors of unknown in known\n",
    "        :param ctx:\n",
    "        :param unknown: (B, N, 3)\n",
    "        :param known: (B, M, 3)\n",
    "        :return:\n",
    "            dist: (B, N, 3) l2 distance to the three nearest neighbors\n",
    "            idx: (B, N, 3) index of 3 nearest neighbors\n",
    "        \"\"\"\n",
    "        assert unknown.is_contiguous()\n",
    "        assert known.is_contiguous()\n",
    "\n",
    "        B, N, _ = unknown.size()\n",
    "        m = known.size(1)\n",
    "        dist2 = torch.cuda.FloatTensor(B, N, 3)\n",
    "        idx = torch.cuda.IntTensor(B, N, 3)\n",
    "\n",
    "        pointnet2.three_nn_wrapper(B, N, m, unknown, known, dist2, idx)\n",
    "        return torch.sqrt(dist2), idx\n",
    "\n",
    "    @staticmethod\n",
    "    def backward(ctx, a=None, b=None):\n",
    "        return None, None\n",
    "\n",
    "three_nn = ThreeNN.apply\n"
   ]
  },
  {
   "cell_type": "code",
   "execution_count": 14,
   "metadata": {},
   "outputs": [
    {
     "name": "stdout",
     "output_type": "stream",
     "text": [
      "other impl. time: 0.0008552074432373046875s\n"
     ]
    }
   ],
   "source": [
    "t = timecheck()\n",
    "c_oth_dists, c_oth_idx = three_nn(center_t_pc.transpose(1,2).contiguous(), t_pc.transpose(1,2).contiguous())\n",
    "# print(c_oth_idx.shape)\n",
    "t = timecheck(t, \"other impl. time\")"
   ]
  },
  {
   "cell_type": "markdown",
   "metadata": {},
   "source": [
    "## compare implementations using scene data batches."
   ]
  },
  {
   "cell_type": "code",
   "execution_count": 15,
   "metadata": {},
   "outputs": [],
   "source": [
    "from libs.dataset import SimpleSceneDataset\n",
    "from torch.utils.data import DataLoader"
   ]
  },
  {
   "cell_type": "code",
   "execution_count": 20,
   "metadata": {},
   "outputs": [],
   "source": [
    "def speed_test(method, loader):\n",
    "    for i, data in enumerate(loader): pass # for speed processing\n",
    "    \n",
    "    # print name\n",
    "    if method == 0:\n",
    "        t_name = \"original c++ impl. time\"\n",
    "    elif method == 1:\n",
    "        t_name = \"original py impl. time\"\n",
    "    elif method == 2:\n",
    "        t_name = \"other c++ impl. time\"\n",
    "    else:\n",
    "        raise NotImplementedError()\n",
    "\n",
    "    # timer start\n",
    "    t = timecheck()\n",
    "    for _ in range(100):\n",
    "        for i, data in enumerate(loader):\n",
    "            point_clouds, sem_labels, ins_labels = data\n",
    "            point_clouds = point_clouds[:, :3].to(device)\n",
    "            center_idxs = furthest_point_sample(point_clouds, 1024)\n",
    "            center_pc = index2points(point_clouds, center_idxs)\n",
    "            if method == 0:\n",
    "                _ = knn(center_points, point_clouds, k=3)\n",
    "            elif method == 1:\n",
    "                _ = py_k_nearest_neighbors(center_pc, point_clouds, k=3, memory_saving=False)\n",
    "            elif method == 2:\n",
    "                _ = three_nn(center_pc.transpose(1,2).contiguous(), point_clouds.transpose(1,2).contiguous())\n",
    "            else:\n",
    "                raise NotImplementedError()\n",
    "    # timer end\n",
    "    timecheck(t, t_name)\n",
    "        "
   ]
  },
  {
   "cell_type": "code",
   "execution_count": 21,
   "metadata": {},
   "outputs": [],
   "source": [
    "dataset = SimpleSceneDataset()\n",
    "loader = DataLoader(\n",
    "    dataset,\n",
    "    batch_size=32,\n",
    "    num_workers=8,\n",
    "    pin_memory=True,\n",
    "    shuffle=False\n",
    ")"
   ]
  },
  {
   "cell_type": "code",
   "execution_count": 27,
   "metadata": {},
   "outputs": [
    {
     "name": "stdout",
     "output_type": "stream",
     "text": [
      "original c++ impl. time: 22.93700408935546875s\n"
     ]
    }
   ],
   "source": [
    "speed_test(0, loader)"
   ]
  },
  {
   "cell_type": "code",
   "execution_count": 28,
   "metadata": {},
   "outputs": [
    {
     "name": "stdout",
     "output_type": "stream",
     "text": [
      "original py impl. time: 22.9990055561065673828125s\n"
     ]
    }
   ],
   "source": [
    "speed_test(1, loader)"
   ]
  },
  {
   "cell_type": "code",
   "execution_count": 29,
   "metadata": {},
   "outputs": [
    {
     "name": "stdout",
     "output_type": "stream",
     "text": [
      "other c++ impl. time: 23.0654144287109375s\n"
     ]
    }
   ],
   "source": [
    "speed_test(2, loader)"
   ]
  },
  {
   "cell_type": "code",
   "execution_count": null,
   "metadata": {},
   "outputs": [],
   "source": []
  },
  {
   "cell_type": "code",
   "execution_count": null,
   "metadata": {},
   "outputs": [],
   "source": []
  }
 ],
 "metadata": {
  "kernelspec": {
   "display_name": "Python 3",
   "language": "python",
   "name": "python3"
  },
  "language_info": {
   "codemirror_mode": {
    "name": "ipython",
    "version": 3
   },
   "file_extension": ".py",
   "mimetype": "text/x-python",
   "name": "python",
   "nbconvert_exporter": "python",
   "pygments_lexer": "ipython3",
   "version": "3.7.9"
  }
 },
 "nbformat": 4,
 "nbformat_minor": 4
}
