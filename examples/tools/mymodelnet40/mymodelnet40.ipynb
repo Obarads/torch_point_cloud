{
 "cells": [
  {
   "cell_type": "markdown",
   "metadata": {},
   "source": [
    "# mymodelnet40\n",
    "- Prerocessed dataset of [modelnet40_normal_resampled](https://shapenet.cs.stanford.edu/media/modelnet40_normal_resampled.zip) for time-saving training."
   ]
  },
  {
   "cell_type": "markdown",
   "metadata": {},
   "source": [
    "## Import packages."
   ]
  },
  {
   "cell_type": "code",
   "execution_count": 10,
   "metadata": {},
   "outputs": [],
   "source": [
    "import os\n",
    "import h5py\n",
    "import numpy as np\n",
    "import k3d\n",
    "\n",
    "import torch\n",
    "\n",
    "# my packages\n",
    "from libs import tpcpath\n",
    "from torchpcp.utils import pytorch_tools\n",
    "from torchpcp.datasets.PointNet2.ModelNet import ModelNet40\n",
    "from torchpcp.datasets.PointNet2.ModelNet import MyModelNet40"
   ]
  },
  {
   "cell_type": "markdown",
   "metadata": {},
   "source": [
    "## Set a seed."
   ]
  },
  {
   "cell_type": "code",
   "execution_count": 3,
   "metadata": {},
   "outputs": [],
   "source": [
    "pytorch_tools.set_seed(0)\n",
    "device = pytorch_tools.select_device(\"cuda\")"
   ]
  },
  {
   "cell_type": "markdown",
   "metadata": {},
   "source": [
    "## Visualizetion function"
   ]
  },
  {
   "cell_type": "code",
   "execution_count": 4,
   "metadata": {},
   "outputs": [],
   "source": [
    "def visualize_pc(pc, colors=None):\n",
    "    if colors is None:\n",
    "        colors = np.full(len(pc), 0x000000, dtype=np.float64) # white: 0xFFFFFF\n",
    "    plot = k3d.plot()\n",
    "    points = k3d.points(pc, colors.astype(np.float32), point_size=0.04, shader='flat')\n",
    "    plot += points\n",
    "    plot.display()\n"
   ]
  },
  {
   "cell_type": "markdown",
   "metadata": {},
   "source": [
    "## Load Dataset of modelnet40_normal_resampled."
   ]
  },
  {
   "cell_type": "code",
   "execution_count": null,
   "metadata": {},
   "outputs": [],
   "source": [
    "path = \"/mnt/databox/datasets/ModelNet/modelnet40_normal_resampled\"\n",
    "# path = \"/path/to/modelnet40_normal_resampled\"\n",
    "datasets = ModelNet40(path)"
   ]
  },
  {
   "cell_type": "markdown",
   "metadata": {},
   "source": [
    "## Define output path."
   ]
  },
  {
   "cell_type": "code",
   "execution_count": 15,
   "metadata": {},
   "outputs": [],
   "source": [
    "# output_path = \"/path/to/outputs/\"\n",
    "output_path = \"/mnt/databox/datasets/ModelNet/\"\n",
    "preprocessed_dataset = \"mymodelnet40\"\n",
    "preprocessed_dataset_path = os.path.join(output_path, preprocessed_dataset)\n"
   ]
  },
  {
   "cell_type": "markdown",
   "metadata": {},
   "source": [
    "## Preprocess the dataset."
   ]
  },
  {
   "cell_type": "code",
   "execution_count": 6,
   "metadata": {},
   "outputs": [],
   "source": [
    "def create_modelnet_dataset(file_name, dataset):\n",
    "    loader = range(len(dataset))\n",
    "    # loader = tqdm(loader, desc=file_name)\n",
    "    with h5py.File(file_name, \"w\") as f:\n",
    "        point_clouds = []\n",
    "        labels = []\n",
    "        for i in loader:\n",
    "            points, label = dataset[i]\n",
    "            point_clouds.append(points)\n",
    "            labels.append(label)\n",
    "\n",
    "        f.create_dataset(\"point_clouds\", data=point_clouds, compression='gzip', compression_opts=1, dtype=\"float32\")\n",
    "        f.create_dataset(\"labels\", data=labels, compression='gzip', compression_opts=1, dtype=\"uint8\")\n"
   ]
  },
  {
   "cell_type": "code",
   "execution_count": 12,
   "metadata": {},
   "outputs": [],
   "source": [
    "os.mkdir(preprocessed_dataset_path)\n",
    "train_dataset_path = os.path.join(preprocessed_dataset_path, \"train_modelnet40.h5\")\n",
    "create_modelnet_dataset(train_dataset_path, datasets[\"train\"])\n",
    "test_dataset_path = os.path.join(preprocessed_dataset_path, \"test_modelnet40.h5\")\n",
    "create_modelnet_dataset(test_dataset_path, datasets[\"test\"])\n"
   ]
  },
  {
   "cell_type": "markdown",
   "metadata": {},
   "source": [
    "## Use MyModelNet40 (preprocessed modelnet40_normal_resampled)."
   ]
  },
  {
   "cell_type": "code",
   "execution_count": 18,
   "metadata": {},
   "outputs": [],
   "source": [
    "my_dataset = MyModelNet40(preprocessed_dataset_path)"
   ]
  },
  {
   "cell_type": "markdown",
   "metadata": {},
   "source": [
    "## Visualize a point cloud."
   ]
  },
  {
   "cell_type": "code",
   "execution_count": 34,
   "metadata": {},
   "outputs": [],
   "source": [
    "points, label = my_dataset[\"train\"][3001]"
   ]
  },
  {
   "cell_type": "code",
   "execution_count": 35,
   "metadata": {},
   "outputs": [
    {
     "data": {
      "application/vnd.jupyter.widget-view+json": {
       "model_id": "f298b96794c9431099ddde2bf6bd6e38",
       "version_major": 2,
       "version_minor": 0
      },
      "text/plain": [
       "Output()"
      ]
     },
     "metadata": {},
     "output_type": "display_data"
    }
   ],
   "source": [
    "visualize_pc(points[:, :3])"
   ]
  },
  {
   "cell_type": "code",
   "execution_count": null,
   "metadata": {},
   "outputs": [],
   "source": [
    "visualize_pc(points[:, 3:6])"
   ]
  },
  {
   "cell_type": "code",
   "execution_count": null,
   "metadata": {},
   "outputs": [],
   "source": []
  },
  {
   "cell_type": "code",
   "execution_count": null,
   "metadata": {},
   "outputs": [],
   "source": []
  }
 ],
 "metadata": {
  "kernelspec": {
   "display_name": "Python 3",
   "language": "python",
   "name": "python3"
  },
  "language_info": {
   "codemirror_mode": {
    "name": "ipython",
    "version": 3
   },
   "file_extension": ".py",
   "mimetype": "text/x-python",
   "name": "python",
   "nbconvert_exporter": "python",
   "pygments_lexer": "ipython3",
   "version": "3.7.9"
  }
 },
 "nbformat": 4,
 "nbformat_minor": 4
}
